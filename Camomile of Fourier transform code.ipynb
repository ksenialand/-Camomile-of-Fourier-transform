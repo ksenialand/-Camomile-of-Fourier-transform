{
 "cells": [
  {
   "cell_type": "code",
   "execution_count": 21,
   "id": "fccb2433",
   "metadata": {},
   "outputs": [
    {
     "name": "stderr",
     "output_type": "stream",
     "text": [
      "C:\\Users\\Mvideo\\AppData\\Local\\Temp\\ipykernel_1304\\3897922655.py:13: MatplotlibDeprecationWarning: Auto-removal of overlapping axes is deprecated since 3.6 and will be removed two minor releases later; explicitly call ax.remove() as needed.\n",
      "  plt.subplot(2, 3, 1)\n"
     ]
    }
   ],
   "source": [
    "%matplotlib qt5\n",
    "import time\n",
    "import matplotlib.pyplot as plt\n",
    "import matplotlib.animation as an\n",
    "import numpy as np\n",
    "\n",
    "\n",
    "fig, ax = plt.subplots(1)\n",
    "dt = 0.001\n",
    "t = np.r_[0 : 1: dt]\n",
    "\n",
    "func_ft = np.sin(2*np.pi*10*t)\n",
    "plt.subplot(2, 3, 1)\n",
    "plt.plot(t, func_ft)\n",
    "plt.title('Функция sin(2pi*10t)')\n",
    "\n",
    "wrapping_freq = 1\n",
    "F_product = func_ft*np.exp(-1j*2*np.pi*wrapping_freq*t)\n",
    "plt.subplot(2, 3, 2)\n",
    "plt.plot(F_product.real, F_product.imag)\n",
    "plt.title('Частота обмотки равна 1')\n",
    "\n",
    "\n",
    "wrapping_freq = 4\n",
    "F_product = func_ft*np.exp(-1j*2*np.pi*wrapping_freq*t)\n",
    "plt.subplot(2, 3, 3)\n",
    "plt.plot(F_product.real, F_product.imag)\n",
    "plt.title('Частота обмотки равна 4')\n",
    "\n",
    "func_ft = np.sin(np.pi*5*t)+np.cos(np.pi*10*t)\n",
    "plt.subplot(2, 3, 4)\n",
    "plt.plot(t, func_ft)\n",
    "plt.title('Функция sin(pi*5t)+cos(pi*10t)')\n",
    "\n",
    "wrapping_freq = 1\n",
    "F_product = func_ft*np.exp(-1j*2*np.pi*wrapping_freq*t)\n",
    "plt.subplot(2, 3, 5)\n",
    "plt.plot(F_product.real, F_product.imag)\n",
    "plt.title('Частота обмотки равна 1')\n",
    "\n",
    "wrapping_freq = 4\n",
    "F_product = func_ft*np.exp(-1j*2*np.pi*wrapping_freq*t)\n",
    "plt.subplot(2, 3, 6)\n",
    "plt.plot(F_product.real, F_product.imag)\n",
    "plt.title('Частота обмотки равна 4')\n",
    "\n",
    "plt.show()\n",
    "     \n",
    "\n",
    "fig, ax = plt.subplots(2)\n",
    "\n",
    "t = np.array([])\n",
    "\n",
    "plt.ion()\n",
    "for a in np.arange(0, 0.5025, 0.0025):\n",
    "    t = np.append(t, a)\n",
    "    func_ft = np.sin(2*np.pi*10*t)\n",
    "    F_product = func_ft*np.exp(-1j*2*np.pi*wrapping_freq*t)\n",
    "    \n",
    "    plt.clf()\n",
    "    plt.subplot(1, 2, 1)\n",
    "    plt.plot(t, func_ft)\n",
    "    \n",
    "    plt.subplot(1, 2, 2)\n",
    "    plt.plot(F_product.real, F_product.imag)\n",
    "    ax = plt.gca()\n",
    "    plt.axis('equal')\n",
    "    plt.draw()\n",
    "    plt.gcf().canvas.flush_events()\n",
    "    \n",
    "    time.sleep(10**-10000)\n",
    "    \n",
    "plt.ioff()\n",
    "plt.show()\n",
    "\n",
    "#F_integral = np.sum(dt*F_product)"
   ]
  },
  {
   "cell_type": "code",
   "execution_count": null,
   "id": "28de21cb",
   "metadata": {},
   "outputs": [],
   "source": []
  }
 ],
 "metadata": {
  "kernelspec": {
   "display_name": "Python 3 (ipykernel)",
   "language": "python",
   "name": "python3"
  },
  "language_info": {
   "codemirror_mode": {
    "name": "ipython",
    "version": 3
   },
   "file_extension": ".py",
   "mimetype": "text/x-python",
   "name": "python",
   "nbconvert_exporter": "python",
   "pygments_lexer": "ipython3",
   "version": "3.9.15"
  }
 },
 "nbformat": 4,
 "nbformat_minor": 5
}
